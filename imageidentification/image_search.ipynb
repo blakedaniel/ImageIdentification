{
 "cells": [
  {
   "cell_type": "code",
   "execution_count": 4,
   "metadata": {},
   "outputs": [],
   "source": [
    "from duckduckgo_search import DDGS\n",
    "from fastcore.all import *\n",
    "from fastdownload import download_url\n",
    "from fastai.vision.all import *\n",
    "from time import sleep\n"
   ]
  },
  {
   "attachments": {},
   "cell_type": "markdown",
   "metadata": {},
   "source": [
    "## What's this doing?\n",
    "Downloading all of the required library for the project chunck\n",
    "- **duckduckgo_search:** for searching for images\n",
    "- **fastcore.all:** for the fastcore library"
   ]
  },
  {
   "cell_type": "code",
   "execution_count": 13,
   "metadata": {},
   "outputs": [],
   "source": [
    "def search_images(term, max_images=5):\n",
    "    print(f'Searching for: {term}')\n",
    "    with DDGS() as ddgs:\n",
    "        results = ddgs.images(keywords=term, max_results=max_images)\n",
    "        return L(results).itemgot('image')"
   ]
  },
  {
   "attachments": {},
   "cell_type": "markdown",
   "metadata": {},
   "source": [
    "## What's this doing?\n",
    "creating a function that returns at most 5 images from duck duck go. Something to note:\n",
    "- ddg_images has a lot of optional arguments, which you can find here: https://help.duckduckgo.com/settings/params/\n",
    "- L(SOME_SEARCH_RESULT).itemgot('image') makes getting the list of images from ddg so much easier as a dictionare relating to reach search is what ddg_images produces"
   ]
  },
  {
   "cell_type": "code",
   "execution_count": 14,
   "metadata": {},
   "outputs": [
    {
     "name": "stdout",
     "output_type": "stream",
     "text": [
      "Searching for: Donald Trump photos\n",
      "Searching for: Angry Orange photos\n"
     ]
    }
   ],
   "source": [
    "search_terms = ['Oak Leaves', 'Maple Leaves']\n",
    "path = Path('maple_or_oak')\n",
    "for search_term in search_terms:\n",
    "    folder = ''.join(search_term.split())\n",
    "    dest = (path/folder)\n",
    "    dest.mkdir(exist_ok=True, parents=True)\n",
    "    download_images(dest, urls=search_images(term=f'{search_term} photos', max_images=30))\n",
    "    resize_images(path/folder, max_size=400, dest=path/folder)\n",
    "    failed = verify_images(get_image_files(path))\n",
    "    failed.map(Path.unlink)\n",
    "    len(failed)\n",
    "    sleep(10)"
   ]
  },
  {
   "attachments": {},
   "cell_type": "markdown",
   "metadata": {},
   "source": [
    "## What's this doing?\n",
    "for identified search terms, in this case 'The Scarlet Letter' and 'Huckleberry Finn', it downloads related book cover images to folderes defined by the key search term, and then removes files that aren't images"
   ]
  },
  {
   "cell_type": "code",
   "execution_count": null,
   "metadata": {},
   "outputs": [],
   "source": [
    "path = Path('donald_or_not')\n",
    "dls = DataBlock(\n",
    "    blocks=(ImageBlock, CategoryBlock),\n",
    "    get_items=get_image_files,\n",
    "    splitter=RandomSplitter(valid_pct=0.2, seed=57),\n",
    "    get_y=parent_label,\n",
    "    item_tfms=[Resize(192, method='squish')]\n",
    ").dataloaders(path, bs=32)\n",
    "\n",
    "dls.show_batch(max_n=8)\n"
   ]
  },
  {
   "cell_type": "code",
   "execution_count": null,
   "metadata": {},
   "outputs": [],
   "source": [
    "learn = vision_learner(dls, resnet18, metrics=error_rate)\n",
    "learn.fine_tune(3)"
   ]
  },
  {
   "cell_type": "code",
   "execution_count": null,
   "metadata": {},
   "outputs": [],
   "source": [
    "download_url(search_images('donald trump beach photo', max_images=1)[0], 'trump.jpg')\n",
    "Image.open('trump.jpg').to_thumb(256,256)"
   ]
  },
  {
   "cell_type": "code",
   "execution_count": null,
   "metadata": {},
   "outputs": [],
   "source": [
    "is_trump, what, probs = learn.predict(PILImage.create('trump.jpg'))\n",
    "print(f\"This is a: {is_trump}.\")\n",
    "print(f\"Probability it's {is_trump}: {probs[0]:.4f}\")\n",
    "print('what is this?', what)\n"
   ]
  }
 ],
 "metadata": {
  "kernelspec": {
   "display_name": "Python 3",
   "language": "python",
   "name": "python3"
  },
  "language_info": {
   "codemirror_mode": {
    "name": "ipython",
    "version": 3
   },
   "file_extension": ".py",
   "mimetype": "text/x-python",
   "name": "python",
   "nbconvert_exporter": "python",
   "pygments_lexer": "ipython3",
   "version": "3.11.4"
  },
  "orig_nbformat": 4,
  "vscode": {
   "interpreter": {
    "hash": "aee8b7b246df8f9039afb4144a1f6fd8d2ca17a180786b69acc140d282b71a49"
   }
  }
 },
 "nbformat": 4,
 "nbformat_minor": 2
}
